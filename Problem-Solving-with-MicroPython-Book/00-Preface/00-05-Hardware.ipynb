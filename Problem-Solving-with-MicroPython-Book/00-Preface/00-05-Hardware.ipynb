{
 "cells": [
  {
   "cell_type": "markdown",
   "metadata": {},
   "source": [
    "## Hardware"
   ]
  },
  {
   "cell_type": "markdown",
   "metadata": {},
   "source": [
    "The following hardware is used in the book:\n",
    "\n",
    " * ESP8266 Microcontroller\n",
    " * MicroUSB cable\n",
    " * Breadboard\n",
    " * Jumper Wires\n",
    " * 4 color LEDs\n",
    " * 1 multicolor LED\n",
    " * 330 Ohm resistors\n",
    " * 10 kOhm resistors\n",
    " * Potentiometer\n",
    " * Light Sensor\n",
    " * Temperature Sensor\n",
    " * 4 buttons\n",
    " * Piezo Buzzer\n",
    " * Servo motor"
   ]
  }
 ],
 "metadata": {
  "kernelspec": {
   "display_name": "Python 3",
   "language": "python",
   "name": "python3"
  },
  "language_info": {
   "codemirror_mode": {
    "name": "ipython",
    "version": 3
   },
   "file_extension": ".py",
   "mimetype": "text/x-python",
   "name": "python",
   "nbconvert_exporter": "python",
   "pygments_lexer": "ipython3",
   "version": "3.6.4"
  }
 },
 "nbformat": 4,
 "nbformat_minor": 2
}
